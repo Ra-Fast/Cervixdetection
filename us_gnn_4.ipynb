{
 "cells": [
  {
   "cell_type": "markdown",
   "id": "ea9f7509-551c-4fc6-9c14-3462bf4bd90c",
   "metadata": {},
   "source": [
    "# Importar librerías"
   ]
  },
  {
   "cell_type": "code",
   "execution_count": 1,
   "id": "9537e1b4-4e9f-4645-a00a-8d4a1b80bbd4",
   "metadata": {},
   "outputs": [
    {
     "name": "stderr",
     "output_type": "stream",
     "text": [
      "/opt/conda/lib/python3.10/site-packages/tqdm/auto.py:21: TqdmWarning: IProgress not found. Please update jupyter and ipywidgets. See https://ipywidgets.readthedocs.io/en/stable/user_install.html\n",
      "  from .autonotebook import tqdm as notebook_tqdm\n"
     ]
    }
   ],
   "source": [
    "import torch\n",
    "import torch.nn as nn\n",
    "import torch.optim as optim\n",
    "from torchvision import datasets, transforms, models\n",
    "from torch.utils.data import DataLoader, random_split\n",
    "import matplotlib.pyplot as plt\n",
    "import pandas as pd\n",
    "import csv\n",
    "import os\n",
    "from PIL import Image\n",
    "import random\n",
    "from sklearn.metrics import precision_score, recall_score, f1_score, confusion_matrix, classification_report\n",
    "from torch_geometric.nn import GCNConv\n",
    "import math\n",
    "from torchvision.models import DenseNet121_Weights\n",
    "from tqdm import tqdm"
   ]
  },
  {
   "cell_type": "markdown",
   "id": "2a08b8ef-5228-4b0e-b415-d063d4873b01",
   "metadata": {},
   "source": [
    "# Helper functions"
   ]
  },
  {
   "cell_type": "markdown",
   "id": "a3657477-61a7-4900-823b-077081904204",
   "metadata": {},
   "source": [
    "## Función para reservar parte del fichero de muestras para test"
   ]
  },
  {
   "cell_type": "code",
   "execution_count": 2,
   "id": "0d6a96cd-b629-48c5-86ca-89ea36edc00f",
   "metadata": {},
   "outputs": [],
   "source": [
    "def dividir_csv(fichero_entrada, fichero_salida1, fichero_salida2, porcentaje=70):\n",
    "    \"\"\"\n",
    "    Divide un archivo CSV en dos archivos en función de un porcentaje.\n",
    "\n",
    "    :param fichero_entrada: Ruta del archivo CSV de entrada.\n",
    "    :param fichero_salida1: Ruta del primer archivo CSV de salida.\n",
    "    :param fichero_salida2: Ruta del segundo archivo CSV de salida.\n",
    "    :param porcentaje: Porcentaje de datos que debe ir al primer archivo (0-100).\n",
    "    \"\"\"\n",
    "    # Asegurar que el porcentaje está entre 0 y 100\n",
    "    if porcentaje < 0 or porcentaje > 100:\n",
    "        raise ValueError(\"El porcentaje debe estar entre 0 y 100.\")\n",
    "\n",
    "    with open(fichero_entrada, mode='r', newline='') as f_entrada:\n",
    "        lector_csv = list(csv.reader(f_entrada))\n",
    "        \n",
    "        # Obtener el encabezado y los datos\n",
    "        encabezado = lector_csv[0]\n",
    "        datos = lector_csv[1:]\n",
    "        \n",
    "        # Mezclar aleatoriamente las filas\n",
    "        random.shuffle(datos)\n",
    "\n",
    "        # Calcular el número de filas para cada archivo\n",
    "        total_filas = len(datos)\n",
    "        num_filas_salida1 = int(total_filas * porcentaje / 100)\n",
    "        \n",
    "        # Separar los datos\n",
    "        datos_salida1 = datos[:num_filas_salida1]\n",
    "        datos_salida2 = datos[num_filas_salida1:]\n",
    "\n",
    "        # Escribir el primer archivo CSV\n",
    "        with open(fichero_salida1, mode='w', newline='') as f_salida1:\n",
    "            escritor_csv1 = csv.writer(f_salida1)\n",
    "            escritor_csv1.writerow(encabezado)\n",
    "            escritor_csv1.writerows(datos_salida1)\n",
    "\n",
    "        # Escribir el segundo archivo CSV\n",
    "        with open(fichero_salida2, mode='w', newline='') as f_salida2:\n",
    "            escritor_csv2 = csv.writer(f_salida2)\n",
    "            escritor_csv2.writerow(encabezado)\n",
    "            escritor_csv2.writerows(datos_salida2)\n"
   ]
  },
  {
   "cell_type": "markdown",
   "id": "9ccf9147-9d48-43a8-bcbc-ac06eae16763",
   "metadata": {},
   "source": [
    "## Data Loader"
   ]
  },
  {
   "cell_type": "code",
   "execution_count": 3,
   "id": "b7afd973-562a-4ba5-82a6-e51c96690e21",
   "metadata": {},
   "outputs": [],
   "source": [
    "# Transformaciones para las imágenes\n",
    "transform = transforms.Compose([\n",
    "    transforms.Grayscale(),  # Convertir a blanco y negro\n",
    "    transforms.Resize((96, 96)),  # Ajustar el tamaño si es necesario\n",
    "    transforms.ToTensor(),\n",
    "    transforms.Normalize(mean=[0.5], std=[0.5])  # Normaliza a [-1, 1]\n",
    "])\n",
    "\n",
    "# Función para cargar las etiquetas desde un archivo CSV\n",
    "def load_labels(csv_path,frac=1):\n",
    "    df_1 = pd.read_csv(csv_path)\n",
    "    df=df_1.sample(frac=frac)\n",
    "    labels = {row['id']: row['label'] for _, row in df.iterrows()}\n",
    "    return labels\n",
    "\n",
    "\n",
    "\n",
    "# Dataset personalizado\n",
    "class CustomImageDataset(torch.utils.data.Dataset):\n",
    "    def __init__(self, img_dir, labels, transform=None):\n",
    "        self.img_dir = img_dir\n",
    "        self.labels = labels\n",
    "        self.transform = transform\n",
    "        '''\n",
    "        # Filtrar solo las imágenes que existen\n",
    "        self.img_ids = [img_id for img_id in labels.keys() if os.path.exists(os.path.join(img_dir, f'{img_id}.png'))]\n",
    "        '''\n",
    "        self.img_ids = list(labels.keys())  # Utilizamos todas las claves de etiquetas\n",
    "        \n",
    "    def __len__(self):\n",
    "        return len(self.img_ids)\n",
    "\n",
    "    def __getitem__(self, idx):\n",
    "        img_id = self.img_ids[idx]\n",
    "        img_path = os.path.join(self.img_dir, f'{img_id}.tif')\n",
    "        \n",
    "        # Cargar la imagen\n",
    "        image = Image.open(img_path).convert('RGB')\n",
    "        label = self.labels[img_id]\n",
    "\n",
    "        if self.transform:\n",
    "            image = self.transform(image)\n",
    "\n",
    "        return image, label"
   ]
  },
  {
   "cell_type": "markdown",
   "id": "6ccd4d80-bd04-4cb1-aa57-c355051541b9",
   "metadata": {},
   "source": [
    "## Entrenamiento\n",
    "\n",
    "Se implementa el entrenamiento mediante validación cruzada y con un callback para detener el entrenamiento con una paciencia de 5 épocas"
   ]
  },
  {
   "cell_type": "code",
   "execution_count": 4,
   "id": "22a45348-9be6-4ca6-9e32-d1b92e3eebc3",
   "metadata": {},
   "outputs": [],
   "source": [
    "def train_model(model, train_loader, criterion, optimizer, scheduler, num_epochs=30, batch_size=32, learning_rate=0.001, patience=5, l1_lambda=1e-5, l2_lambda=1e-4):\n",
    "    # Device (CPU or GPU if available)\n",
    "    device = torch.device('cuda' if torch.cuda.is_available() else 'cpu')\n",
    "    model.to(device)\n",
    "\n",
    "    # Split the dataset into training and validation (80% training, 20% validation)\n",
    "    total_size = len(train_loader.dataset)\n",
    "    val_size = int(0.2 * total_size)\n",
    "    train_size = total_size - val_size\n",
    "    train_dataset, val_dataset = random_split(train_loader.dataset, [train_size, val_size])\n",
    "\n",
    "    # DataLoader for training and validation sets\n",
    "    train_loader = DataLoader(train_dataset, batch_size=batch_size, shuffle=True)\n",
    "    val_loader = DataLoader(val_dataset, batch_size=batch_size, shuffle=False)\n",
    "\n",
    "    # To store losses and accuracy\n",
    "    train_losses = []\n",
    "    val_losses = []\n",
    "    train_accuracies = []\n",
    "    val_accuracies = []\n",
    "\n",
    "    # Early Stopping variables\n",
    "    best_val_accuracy = 0.0\n",
    "    epochs_without_improvement = 0\n",
    "\n",
    "    for epoch in range(num_epochs):\n",
    "        model.train()\n",
    "        running_loss = 0.0\n",
    "        correct = 0\n",
    "        total = 0\n",
    "\n",
    "        # Model training\n",
    "        for images, labels in train_loader:\n",
    "            images = images.to(device)\n",
    "            labels = labels.to(device)\n",
    "\n",
    "            # Reset gradients\n",
    "            optimizer.zero_grad()\n",
    "            \n",
    "            # Forward pass and loss calculation\n",
    "            outputs = model(images)\n",
    "            loss = criterion(outputs, labels)\n",
    "            \n",
    "            # L1 regularization\n",
    "            l1_reg = torch.tensor(0., requires_grad=True)\n",
    "            for param in model.parameters():\n",
    "                l1_reg = l1_reg + torch.norm(param, 1)\n",
    "            loss = loss + l1_lambda * l1_reg\n",
    "\n",
    "            # L2 regularization (in addition to weight decay in optimizer)\n",
    "            l2_reg = torch.tensor(0., requires_grad=True)\n",
    "            for param in model.parameters():\n",
    "                l2_reg = l2_reg + torch.norm(param, 2)\n",
    "            loss = loss + l2_lambda * l2_reg\n",
    "            \n",
    "            # Backpropagation and optimization\n",
    "            loss.backward()\n",
    "            optimizer.step()\n",
    "\n",
    "            # Accumulate loss\n",
    "            running_loss += loss.item()\n",
    "\n",
    "            # Calculate accuracy\n",
    "            _, predicted = torch.max(outputs.data, 1)\n",
    "            total += labels.size(0)\n",
    "            correct += (predicted == labels).sum().item()\n",
    "\n",
    "        # Calculate loss and accuracy per epoch for the training set\n",
    "        train_loss = running_loss / len(train_loader)\n",
    "        train_accuracy = 100 * correct / total\n",
    "        train_losses.append(train_loss)\n",
    "        train_accuracies.append(train_accuracy)\n",
    "\n",
    "        # Model validation\n",
    "        model.eval()\n",
    "        val_loss = 0.0\n",
    "        correct = 0\n",
    "        total = 0\n",
    "\n",
    "        with torch.no_grad():\n",
    "            for images, labels in val_loader:\n",
    "                images, labels = images.to(device), labels.to(device)\n",
    "                outputs = model(images)\n",
    "                loss = criterion(outputs, labels)\n",
    "\n",
    "                # Accumulate loss\n",
    "                val_loss += loss.item()\n",
    "\n",
    "                # Calculate accuracy\n",
    "                _, predicted = torch.max(outputs.data, 1)\n",
    "                total += labels.size(0)\n",
    "                correct += (predicted == labels).sum().item()\n",
    "\n",
    "        # Calculate loss and accuracy per epoch for the validation set\n",
    "        val_loss /= len(val_loader)\n",
    "        val_accuracy = 100 * correct / total\n",
    "        val_losses.append(val_loss)\n",
    "        val_accuracies.append(val_accuracy)\n",
    "\n",
    "        # Learning rate scheduler\n",
    "        scheduler.step(val_loss)\n",
    "\n",
    "        # Print results per epoch\n",
    "        print(f'Epoch {epoch+1}/{num_epochs}, '\n",
    "              f'Training Loss: {train_loss:.4f}, Training Accuracy: {train_accuracy:.2f}%, '\n",
    "              f'Validation Loss: {val_loss:.4f}, Validation Accuracy: {val_accuracy:.2f}%')\n",
    "\n",
    "        # Early Stopping\n",
    "        if val_accuracy > best_val_accuracy:\n",
    "            best_val_accuracy = val_accuracy\n",
    "            epochs_without_improvement = 0\n",
    "        else:\n",
    "            epochs_without_improvement += 1\n",
    "\n",
    "        if epochs_without_improvement >= patience:\n",
    "            print(f'Stopping training early at epoch {epoch+1} due to lack of improvement in validation accuracy.')\n",
    "            break\n",
    "\n",
    "    # Plot the evolution of loss and accuracy\n",
    "    plt.figure(figsize=(12, 5))\n",
    "\n",
    "    # Loss plot\n",
    "    plt.subplot(1, 2, 1)\n",
    "    plt.plot(train_losses, label='Training Loss')\n",
    "    plt.plot(val_losses, label='Validation Loss')\n",
    "    plt.xlabel('Epoch')\n",
    "    plt.ylabel('Loss')\n",
    "    plt.legend()\n",
    "    plt.title('Loss Evolution')\n",
    "\n",
    "    # Accuracy plot\n",
    "    plt.subplot(1, 2, 2)\n",
    "    plt.plot(train_accuracies, label='Training Accuracy')\n",
    "    plt.plot(val_accuracies, label='Validation Accuracy')\n",
    "    plt.xlabel('Epoch')\n",
    "    plt.ylabel('Accuracy (%)')\n",
    "    plt.legend()\n",
    "    plt.title('Accuracy Evolution')\n",
    "\n",
    "    plt.show()"
   ]
  },
  {
   "cell_type": "markdown",
   "id": "df1ff1d9-b0ae-4458-90e5-0dd29c3bb4c3",
   "metadata": {},
   "source": [
    "## Evaluación"
   ]
  },
  {
   "cell_type": "code",
   "execution_count": 5,
   "id": "17f8a815-860c-4121-89f4-b05c2bb4614e",
   "metadata": {},
   "outputs": [],
   "source": [
    "# Función para evaluar el modelo\n",
    "def evaluate_model(model, test_loader):\n",
    "    device = torch.device('cuda' if torch.cuda.is_available() else 'cpu')\n",
    "    model.to(device)  # Asegurarse de que el modelo está en el dispositivo correcto\n",
    "    model.eval()\n",
    "    \n",
    "    all_preds = []\n",
    "    all_labels = []\n",
    "    \n",
    "    with torch.no_grad():\n",
    "        for inputs, labels in test_loader:\n",
    "            inputs, labels = inputs.to(device), labels.to(device)\n",
    "            outputs = model(inputs)\n",
    "            _, preds = torch.max(outputs, 1)\n",
    "            all_preds.extend(preds.cpu().numpy())\n",
    "            all_labels.extend(labels.cpu().numpy())\n",
    "\n",
    "    # Calcular métricas\n",
    "    precision = precision_score(all_labels, all_preds, average='weighted', zero_division=0)\n",
    "    recall = recall_score(all_labels, all_preds, average='weighted', zero_division=0)\n",
    "    f1 = f1_score(all_labels, all_preds, average='weighted', zero_division=0)\n",
    "    conf_matrix = confusion_matrix(all_labels, all_preds)\n",
    "    \n",
    "    print(f'Precision: {precision:.4f}, Recall: {recall:.4f}, F1 Score: {f1:.4f}')\n",
    "    print('Confusion Matrix:')\n",
    "    print(conf_matrix)\n",
    "    \n",
    "    return all_labels, all_preds\n",
    "\n"
   ]
  },
  {
   "cell_type": "code",
   "execution_count": 6,
   "id": "e5e500bf-eff0-41c3-a6f8-83bc0eef8422",
   "metadata": {},
   "outputs": [],
   "source": [
    "# Función para realizar predicción en una sola imagen\n",
    "def predict_image(image_path,model):\n",
    "    device = torch.device('cuda' if torch.cuda.is_available() else 'cpu')\n",
    "    with Image.open(image_path) as image:\n",
    "        image = transform(image).unsqueeze(0).to(device)\n",
    "    with torch.no_grad():\n",
    "        output = model(image)\n",
    "    _, predicted = torch.max(output, 1)\n",
    "    return predicted.item()\n"
   ]
  },
  {
   "cell_type": "markdown",
   "id": "6c279d0e-dc6d-432d-acaa-6def698bdd10",
   "metadata": {},
   "source": [
    "# Modelos"
   ]
  },
  {
   "cell_type": "markdown",
   "id": "8a4b3e3b-79d6-40c8-aa71-3d12c27e8739",
   "metadata": {},
   "source": [
    "## Modelo basado en RestNet y Red Neuronal Gráfica GCC"
   ]
  },
  {
   "cell_type": "code",
   "execution_count": 7,
   "id": "243d09cc-aff0-4987-b4ea-a46c75d189fb",
   "metadata": {},
   "outputs": [],
   "source": [
    "class CNNGNN(nn.Module):\n",
    "    def __init__(self, num_gnn_layers=2, num_neurons_fc=256, num_classes=2, dropout_rate=0.5):\n",
    "        super(CNNGNN, self).__init__()\n",
    "        \n",
    "        # Cargar DenseNet-121 preentrenada\n",
    "        self.densenet = models.densenet121(weights=DenseNet121_Weights.DEFAULT)\n",
    "        \n",
    "        # Modificar la primera capa si es necesario para aceptar imágenes con 1 canal\n",
    "        self.densenet.features.conv0 = nn.Conv2d(1, 64, kernel_size=7, stride=2, padding=3, bias=False)\n",
    "        \n",
    "        # Congelar algunos parámetros de DenseNet\n",
    "        for param in list(self.densenet.parameters())[:-5]:\n",
    "            param.requires_grad = False\n",
    "        \n",
    "        # Calcular el tamaño de salida de DenseNet\n",
    "        with torch.no_grad():\n",
    "            dummy_input = torch.zeros(1, 1, 96, 96)\n",
    "            densenet_output = self.densenet.features(dummy_input)\n",
    "            self.densenet_output_shape = densenet_output.shape\n",
    "            \n",
    "        # Ajustar las dimensiones para GNN\n",
    "        self.gnn_input_dim = self.densenet_output_shape[1]  # Número de canales de salida de DenseNet\n",
    "        self.gnn_output_dim = 256\n",
    "        \n",
    "        # Crear las capas GNN\n",
    "        self.gnn_layers = nn.ModuleList([GCNConv(self.gnn_input_dim if i == 0 else self.gnn_output_dim, \n",
    "                                                 self.gnn_output_dim) \n",
    "                                         for i in range(num_gnn_layers)])\n",
    "        \n",
    "        # Crear las capas completamente conectadas\n",
    "        self.fc = nn.Sequential(\n",
    "            nn.Linear(self.gnn_output_dim, num_neurons_fc),\n",
    "            nn.ReLU(inplace=True),\n",
    "            nn.Dropout(dropout_rate),\n",
    "            nn.Linear(num_neurons_fc, num_neurons_fc // 2),\n",
    "            nn.ReLU(inplace=True),\n",
    "            nn.Dropout(dropout_rate),\n",
    "            nn.Linear(num_neurons_fc // 2, num_classes)\n",
    "        )\n",
    "        \n",
    "        # Agregar BatchNorm después de las capas GNN\n",
    "        self.bn = nn.BatchNorm1d(self.gnn_output_dim)\n",
    "\n",
    "    def forward(self, x):\n",
    "        batch_size = x.size(0)\n",
    "        \n",
    "        # Parte CNN\n",
    "        x = self.densenet.features(x)\n",
    "        \n",
    "        # Reshape para GNN\n",
    "        x = x.view(batch_size, self.gnn_input_dim, -1)  # [batch_size, channels, height * width]\n",
    "        \n",
    "        # Crear la estructura de grafo\n",
    "        num_nodes = x.size(2)\n",
    "        edge_index = self.create_grid_graph(int(math.sqrt(num_nodes)))\n",
    "        edge_index = edge_index.to(x.device)\n",
    "        \n",
    "        # Parte GNN\n",
    "        for i, gnn_layer in enumerate(self.gnn_layers):\n",
    "            x = x.permute(0, 2, 1).contiguous()  # [batch_size, nodes, features]\n",
    "            x = torch.stack([gnn_layer(x[i], edge_index) for i in range(batch_size)])\n",
    "            x = x.permute(0, 2, 1).contiguous()  # [batch_size, features, nodes]\n",
    "        \n",
    "        # Global average pooling\n",
    "        x = torch.mean(x, dim=2)\n",
    "        \n",
    "        # Aplicar BatchNorm\n",
    "        x = self.bn(x)\n",
    "        \n",
    "        # Capas completamente conectadas\n",
    "        x = self.fc(x)\n",
    "        \n",
    "        return x\n",
    "\n",
    "    @staticmethod\n",
    "    def create_grid_graph(size):\n",
    "        edge_index = []\n",
    "        for i in range(size):\n",
    "            for j in range(size):\n",
    "                if i > 0:\n",
    "                    edge_index.append([i * size + j, (i - 1) * size + j])\n",
    "                if i < size - 1:\n",
    "                    edge_index.append([i * size + j, (i + 1) * size + j])\n",
    "                if j > 0:\n",
    "                    edge_index.append([i * size + j, i * size + (j - 1)])\n",
    "                if j < size - 1:\n",
    "                    edge_index.append([i * size + j, i * size + (j + 1)])\n",
    "        return torch.tensor(edge_index, dtype=torch.long).t().contiguous()"
   ]
  },
  {
   "cell_type": "markdown",
   "id": "aff5bb2d-a058-4ee8-9c80-ba1f8a9bf49c",
   "metadata": {},
   "source": [
    "# Implementación "
   ]
  },
  {
   "cell_type": "code",
   "execution_count": 8,
   "id": "8d838cb7-662e-4c19-8476-a63601d4f324",
   "metadata": {},
   "outputs": [],
   "source": [
    "try:\n",
    "    os.chdir('prueba_us')\n",
    "except:\n",
    "    pass"
   ]
  },
  {
   "cell_type": "code",
   "execution_count": 9,
   "id": "2b3e858a-bd03-40f2-925e-2641c68d00c4",
   "metadata": {},
   "outputs": [],
   "source": [
    "# Reservar el 10% de los datos para test\n",
    "dividir_csv(\"train_labels.csv\", \"train.csv\", \"test.csv\", porcentaje=90)"
   ]
  },
  {
   "cell_type": "code",
   "execution_count": 10,
   "id": "89040c5d-2d18-4fff-915d-f612b392db75",
   "metadata": {},
   "outputs": [],
   "source": [
    "# Cargar los datasets\n",
    "batch_size=128\n",
    "# Cargar las etiquetas\n",
    "train_labels = load_labels('train.csv')\n",
    "train_dataset = CustomImageDataset(img_dir='train', labels=train_labels, transform=transform)\n",
    "train_loader = DataLoader(train_dataset, batch_size=batch_size, shuffle=True,num_workers=4)\n",
    "\n",
    "# Cargar etiquetas de prueba (si las necesitas para evaluación)\n",
    "test_labels = load_labels('test.csv')\n",
    "test_dataset = CustomImageDataset(img_dir='train', labels=test_labels, transform=transform)\n",
    "test_loader = DataLoader(test_dataset, batch_size=batch_size, shuffle=False,num_workers=4)"
   ]
  },
  {
   "cell_type": "markdown",
   "id": "c9b42a0f-9be7-4234-a853-50e7cf954580",
   "metadata": {},
   "source": [
    "## Implementación híbrida CNN-GNN"
   ]
  },
  {
   "cell_type": "code",
   "execution_count": 11,
   "id": "f6a2614f-f90d-404c-a3d9-0b76aa6c3fc6",
   "metadata": {},
   "outputs": [
    {
     "name": "stdout",
     "output_type": "stream",
     "text": [
      "Epoch 1/100, Training Loss: 1.9507, Training Accuracy: 79.52%, Validation Loss: 0.4268, Validation Accuracy: 80.38%\n",
      "Epoch 2/100, Training Loss: 1.8765, Training Accuracy: 80.37%, Validation Loss: 0.4240, Validation Accuracy: 80.59%\n",
      "Epoch 3/100, Training Loss: 1.8484, Training Accuracy: 80.66%, Validation Loss: 0.4228, Validation Accuracy: 80.90%\n",
      "Epoch 4/100, Training Loss: 1.8344, Training Accuracy: 80.88%, Validation Loss: 0.4159, Validation Accuracy: 81.19%\n",
      "Epoch 5/100, Training Loss: 1.8251, Training Accuracy: 81.02%, Validation Loss: 0.4122, Validation Accuracy: 81.43%\n",
      "Epoch 6/100, Training Loss: 1.8184, Training Accuracy: 81.23%, Validation Loss: 0.4102, Validation Accuracy: 81.61%\n",
      "Epoch 7/100, Training Loss: 1.8155, Training Accuracy: 81.31%, Validation Loss: 0.4132, Validation Accuracy: 81.23%\n",
      "Epoch 8/100, Training Loss: 1.8135, Training Accuracy: 81.45%, Validation Loss: 0.4121, Validation Accuracy: 81.45%\n",
      "Epoch 9/100, Training Loss: 1.8117, Training Accuracy: 81.52%, Validation Loss: 0.4076, Validation Accuracy: 81.64%\n",
      "Epoch 10/100, Training Loss: 1.8077, Training Accuracy: 81.53%, Validation Loss: 0.4085, Validation Accuracy: 81.45%\n",
      "Epoch 11/100, Training Loss: 1.8046, Training Accuracy: 81.68%, Validation Loss: 0.4069, Validation Accuracy: 81.69%\n",
      "Epoch 12/100, Training Loss: 1.8015, Training Accuracy: 81.72%, Validation Loss: 0.4069, Validation Accuracy: 81.52%\n",
      "Epoch 13/100, Training Loss: 1.8013, Training Accuracy: 81.73%, Validation Loss: 0.4074, Validation Accuracy: 81.55%\n",
      "Epoch 14/100, Training Loss: 1.8018, Training Accuracy: 81.73%, Validation Loss: 0.4063, Validation Accuracy: 81.55%\n",
      "Epoch 15/100, Training Loss: 1.8011, Training Accuracy: 81.77%, Validation Loss: 0.4058, Validation Accuracy: 81.47%\n",
      "Epoch 16/100, Training Loss: 1.8001, Training Accuracy: 81.77%, Validation Loss: 0.4050, Validation Accuracy: 81.63%\n",
      "Stopping training early at epoch 16 due to lack of improvement in validation accuracy.\n"
     ]
    },
    {
     "data": {
      "image/png": "[encoded data removed]",
      "text/plain": [
       "<Figure size 1200x500 with 2 Axes>"
      ]
     },
     "metadata": {},
     "output_type": "display_data"
    }
   ],
   "source": [
    "# Inicializar el modelo y moverlo al dispositivo\n",
    "num_classes = len(set(train_labels.values()))\n",
    "model_CNNGNN = CNNGNN(num_classes=num_classes,dropout_rate=0.6)\n",
    "\n",
    "# Definir la función de pérdida y el optimizador\n",
    "criterion = nn.CrossEntropyLoss()\n",
    "optimizer = torch.optim.Adam(model_CNNGNN.parameters(), lr=0.001, weight_decay=1e-5)\n",
    "# Learning_rate scheduling\n",
    "scheduler = torch.optim.lr_scheduler.ReduceLROnPlateau(optimizer, 'min', patience=10, factor=0.5)\n",
    "\n",
    "# Entrenamiento\n",
    "train_model(model_CNNGNN, train_loader, num_epochs=100, batch_size=batch_size, learning_rate=0.001,criterion=criterion, optimizer=optimizer, scheduler=scheduler)"
   ]
  },
  {
   "cell_type": "code",
   "execution_count": 12,
   "id": "22262b7e-9142-49e4-b783-691d0e0460e5",
   "metadata": {},
   "outputs": [
    {
     "name": "stdout",
     "output_type": "stream",
     "text": [
      "Precision: 0.8164, Recall: 0.8167, F1 Score: 0.8165\n",
      "Confusion Matrix:\n",
      "[[11190  1968]\n",
      " [ 2066  6779]]\n",
      "              precision    recall  f1-score   support\n",
      "\n",
      "           0       0.84      0.85      0.85     13158\n",
      "           1       0.78      0.77      0.77      8845\n",
      "\n",
      "    accuracy                           0.82     22003\n",
      "   macro avg       0.81      0.81      0.81     22003\n",
      "weighted avg       0.82      0.82      0.82     22003\n",
      "\n"
     ]
    }
   ],
   "source": [
    "# Evaluar el modelo\n",
    "labels, preds = evaluate_model(model_CNNGNN, test_loader)\n",
    "\n",
    "# Mostrar el reporte de clasificación\n",
    "print(classification_report(labels, preds, zero_division=0))"
   ]
  },
  {
   "cell_type": "code",
   "execution_count": 13,
   "id": "2d0cf4ea-51b6-48e5-ad58-1111fa44f9e4",
   "metadata": {},
   "outputs": [],
   "source": [
    "# Salvar el modelo\n",
    "torch.save(model_CNNGNN.state_dict(), 'CNNGNN_resnet_2.pth')"
   ]
  },
  {
   "cell_type": "markdown",
   "id": "cc54fdb3-c5fd-4e64-9e8a-4beb6421a58f",
   "metadata": {},
   "source": [
    "# Calcular predicciones"
   ]
  },
  {
   "cell_type": "code",
   "execution_count": 14,
   "id": "6452c45e-0c23-4c9d-8a75-23866364110b",
   "metadata": {},
   "outputs": [
    {
     "name": "stderr",
     "output_type": "stream",
     "text": [
      "Procesando imágenes: 100%|██████████| 57458/57458 [20:03<00:00, 47.74it/s]"
     ]
    },
    {
     "name": "stdout",
     "output_type": "stream",
     "text": [
      "Predicciones completadas y guardadas en 'updated_sample_submission.csv'\n"
     ]
    },
    {
     "name": "stderr",
     "output_type": "stream",
     "text": [
      "\n"
     ]
    }
   ],
   "source": [
    "# Cargar el archivo CSV\n",
    "df = pd.read_csv(\"sample_submission.csv\")\n",
    "\n",
    "# Directorio donde están las imágenes\n",
    "img_dir = \"test\"  # Reemplaza esto con la ruta correcta\n",
    "\n",
    "# Realizar predicciones y actualizar el DataFrame\n",
    "for index, row in tqdm(df.iterrows(), total=df.shape[0], desc=\"Procesando imágenes\", mininterval=1.0):\n",
    "    img_path = os.path.join(img_dir, f\"{row['id']}.tif\")\n",
    "    if os.path.exists(img_path):\n",
    "        prediction = predict_image(img_path, model=model_CNNGNN)\n",
    "        df.at[index, 'label'] = prediction\n",
    "    else:\n",
    "        print(f\"Imagen no encontrada: {img_path}\")\n",
    "\n",
    "# Guardar el DataFrame actualizado\n",
    "df.to_csv(\"updated_sample_submission_resnet_2.csv\", index=False)\n",
    "\n",
    "print(\"Predicciones completadas y guardadas en 'updated_sample_submission.csv'\")"
   ]
  }
 ],
 "metadata": {
  "kernelspec": {
   "display_name": "Python 3 (ipykernel)",
   "language": "python",
   "name": "python3"
  },
  "language_info": {
   "codemirror_mode": {
    "name": "ipython",
    "version": 3
   },
   "file_extension": ".py",
   "mimetype": "text/x-python",
   "name": "python",
   "nbconvert_exporter": "python",
   "pygments_lexer": "ipython3",
   "version": "3.10.13"
  }
 },
 "nbformat": 4,
 "nbformat_minor": 5
}
