{
 "cells": [
  {
   "cell_type": "markdown",
   "id": "ea9f7509-551c-4fc6-9c14-3462bf4bd90c",
   "metadata": {},
   "source": [
    "# Importar librerías"
   ]
  },
  {
   "cell_type": "code",
   "execution_count": 1,
   "id": "9537e1b4-4e9f-4645-a00a-8d4a1b80bbd4",
   "metadata": {},
   "outputs": [
    {
     "name": "stderr",
     "output_type": "stream",
     "text": [
      "/opt/conda/lib/python3.10/site-packages/tqdm/auto.py:21: TqdmWarning: IProgress not found. Please update jupyter and ipywidgets. See https://ipywidgets.readthedocs.io/en/stable/user_install.html\n",
      "  from .autonotebook import tqdm as notebook_tqdm\n"
     ]
    }
   ],
   "source": [
    "import torch\n",
    "import torch.nn as nn\n",
    "import torch.optim as optim\n",
    "from torchvision import datasets, transforms, models\n",
    "from torch.utils.data import DataLoader, random_split\n",
    "import matplotlib.pyplot as plt\n",
    "from sklearn.metrics import precision_score, recall_score, f1_score, confusion_matrix,classification_report\n",
    "import pandas as pd\n",
    "import csv\n",
    "import os\n",
    "from PIL import Image\n",
    "import random"
   ]
  },
  {
   "cell_type": "markdown",
   "id": "2a08b8ef-5228-4b0e-b415-d063d4873b01",
   "metadata": {},
   "source": [
    "# Helper functions"
   ]
  },
  {
   "cell_type": "markdown",
   "id": "a3657477-61a7-4900-823b-077081904204",
   "metadata": {},
   "source": [
    "## Función para reservar parte del fichero de muestras para test"
   ]
  },
  {
   "cell_type": "code",
   "execution_count": 2,
   "id": "0d6a96cd-b629-48c5-86ca-89ea36edc00f",
   "metadata": {},
   "outputs": [],
   "source": [
    "def dividir_csv(fichero_entrada, fichero_salida1, fichero_salida2, porcentaje=70):\n",
    "    \"\"\"\n",
    "    Divide un archivo CSV en dos archivos en función de un porcentaje.\n",
    "\n",
    "    :param fichero_entrada: Ruta del archivo CSV de entrada.\n",
    "    :param fichero_salida1: Ruta del primer archivo CSV de salida.\n",
    "    :param fichero_salida2: Ruta del segundo archivo CSV de salida.\n",
    "    :param porcentaje: Porcentaje de datos que debe ir al primer archivo (0-100).\n",
    "    \"\"\"\n",
    "    # Asegurar que el porcentaje está entre 0 y 100\n",
    "    if porcentaje < 0 or porcentaje > 100:\n",
    "        raise ValueError(\"El porcentaje debe estar entre 0 y 100.\")\n",
    "\n",
    "    with open(fichero_entrada, mode='r', newline='') as f_entrada:\n",
    "        lector_csv = list(csv.reader(f_entrada))\n",
    "        \n",
    "        # Obtener el encabezado y los datos\n",
    "        encabezado = lector_csv[0]\n",
    "        datos = lector_csv[1:]\n",
    "        \n",
    "        # Mezclar aleatoriamente las filas\n",
    "        random.shuffle(datos)\n",
    "\n",
    "        # Calcular el número de filas para cada archivo\n",
    "        total_filas = len(datos)\n",
    "        num_filas_salida1 = int(total_filas * porcentaje / 100)\n",
    "        \n",
    "        # Separar los datos\n",
    "        datos_salida1 = datos[:num_filas_salida1]\n",
    "        datos_salida2 = datos[num_filas_salida1:]\n",
    "\n",
    "        # Escribir el primer archivo CSV\n",
    "        with open(fichero_salida1, mode='w', newline='') as f_salida1:\n",
    "            escritor_csv1 = csv.writer(f_salida1)\n",
    "            escritor_csv1.writerow(encabezado)\n",
    "            escritor_csv1.writerows(datos_salida1)\n",
    "\n",
    "        # Escribir el segundo archivo CSV\n",
    "        with open(fichero_salida2, mode='w', newline='') as f_salida2:\n",
    "            escritor_csv2 = csv.writer(f_salida2)\n",
    "            escritor_csv2.writerow(encabezado)\n",
    "            escritor_csv2.writerows(datos_salida2)\n"
   ]
  },
  {
   "cell_type": "markdown",
   "id": "9ccf9147-9d48-43a8-bcbc-ac06eae16763",
   "metadata": {},
   "source": [
    "## Data Loader"
   ]
  },
  {
   "cell_type": "code",
   "execution_count": 3,
   "id": "b7afd973-562a-4ba5-82a6-e51c96690e21",
   "metadata": {},
   "outputs": [],
   "source": [
    "# Transformaciones para las imágenes\n",
    "transform = transforms.Compose([\n",
    "    transforms.Grayscale(),  # Convertir a blanco y negro\n",
    "    transforms.Resize((96, 96)),  # Ajustar el tamaño si es necesario\n",
    "    transforms.ToTensor(),\n",
    "    transforms.Normalize(mean=[0.5], std=[0.5])  # Normaliza a [-1, 1]\n",
    "])\n",
    "\n",
    "# Función para cargar las etiquetas desde un archivo CSV\n",
    "def load_labels(csv_path,frac=1):\n",
    "    df_1 = pd.read_csv(csv_path)\n",
    "    df=df_1.sample(frac=frac)\n",
    "    labels = {row['id']: row['label'] for _, row in df.iterrows()}\n",
    "    return labels\n",
    "\n",
    "\n",
    "\n",
    "# Dataset personalizado\n",
    "class CustomImageDataset(torch.utils.data.Dataset):\n",
    "    def __init__(self, img_dir, labels, transform=None):\n",
    "        self.img_dir = img_dir\n",
    "        self.labels = labels\n",
    "        self.transform = transform\n",
    "        '''\n",
    "        # Filtrar solo las imágenes que existen\n",
    "        self.img_ids = [img_id for img_id in labels.keys() if os.path.exists(os.path.join(img_dir, f'{img_id}.png'))]\n",
    "        '''\n",
    "        self.img_ids = list(labels.keys())  # Utilizamos todas las claves de etiquetas\n",
    "        \n",
    "    def __len__(self):\n",
    "        return len(self.img_ids)\n",
    "\n",
    "    def __getitem__(self, idx):\n",
    "        img_id = self.img_ids[idx]\n",
    "        img_path = os.path.join(self.img_dir, f'{img_id}.tif')\n",
    "        \n",
    "        # Cargar la imagen\n",
    "        image = Image.open(img_path).convert('RGB')\n",
    "        label = self.labels[img_id]\n",
    "\n",
    "        if self.transform:\n",
    "            image = self.transform(image)\n",
    "\n",
    "        return image, label"
   ]
  },
  {
   "cell_type": "markdown",
   "id": "6ccd4d80-bd04-4cb1-aa57-c355051541b9",
   "metadata": {},
   "source": [
    "## Entrenamiento\n",
    "\n",
    "Se implementa el entrenamiento mediante validación cruzada y con un callback para detener el entrenamiento con una paciencia de 5 épocas"
   ]
  },
  {
   "cell_type": "code",
   "execution_count": 4,
   "id": "22a45348-9be6-4ca6-9e32-d1b92e3eebc3",
   "metadata": {},
   "outputs": [],
   "source": [
    "def train_model(model, train_loader, criterion, optimizer, num_epochs=30, batch_size=32, learning_rate=0.001, patience=5, l1_lambda=1e-5, l2_lambda=1e-4):\n",
    "    # Device (CPU or GPU if available)\n",
    "    device = torch.device('cuda' if torch.cuda.is_available() else 'cpu')\n",
    "    model.to(device)\n",
    "\n",
    "    # Split the dataset into training and validation (80% training, 20% validation)\n",
    "    total_size = len(train_loader.dataset)\n",
    "    val_size = int(0.2 * total_size)\n",
    "    train_size = total_size - val_size\n",
    "    train_dataset, val_dataset = random_split(train_loader.dataset, [train_size, val_size])\n",
    "\n",
    "    # DataLoader for training and validation sets\n",
    "    train_loader = DataLoader(train_dataset, batch_size=batch_size, shuffle=True)\n",
    "    val_loader = DataLoader(val_dataset, batch_size=batch_size, shuffle=False)\n",
    "\n",
    "    # To store losses and accuracy\n",
    "    train_losses = []\n",
    "    val_losses = []\n",
    "    train_accuracies = []\n",
    "    val_accuracies = []\n",
    "\n",
    "    # Early Stopping variables\n",
    "    best_val_accuracy = 0.0\n",
    "    epochs_without_improvement = 0\n",
    "\n",
    "    for epoch in range(num_epochs):\n",
    "        model.train()\n",
    "        running_loss = 0.0\n",
    "        correct = 0\n",
    "        total = 0\n",
    "\n",
    "        # Model training\n",
    "        for images, labels in train_loader:\n",
    "            images = images.to(device)\n",
    "            labels = labels.to(device)\n",
    "\n",
    "            # Reset gradients\n",
    "            optimizer.zero_grad()\n",
    "            \n",
    "            # Forward pass and loss calculation\n",
    "            outputs = model(images)\n",
    "            loss = criterion(outputs, labels)\n",
    "\n",
    "            '''\n",
    "            # L1 regularization\n",
    "            l1_reg = torch.tensor(0., requires_grad=True)\n",
    "            for param in model.parameters():\n",
    "                l1_reg = l1_reg + torch.norm(param, 1)\n",
    "            loss = loss + l1_lambda * l1_reg\n",
    "\n",
    "            # L2 regularization (in addition to weight decay in optimizer)\n",
    "            l2_reg = torch.tensor(0., requires_grad=True)\n",
    "            for param in model.parameters():\n",
    "                l2_reg = l2_reg + torch.norm(param, 2)\n",
    "            loss = loss + l2_lambda * l2_reg\n",
    "            '''\n",
    "            \n",
    "            # Backpropagation and optimization\n",
    "            loss.backward()\n",
    "            optimizer.step()\n",
    "\n",
    "            # Accumulate loss\n",
    "            running_loss += loss.item()\n",
    "\n",
    "            # Calculate accuracy\n",
    "            _, predicted = torch.max(outputs.data, 1)\n",
    "            total += labels.size(0)\n",
    "            correct += (predicted == labels).sum().item()\n",
    "\n",
    "        # Calculate loss and accuracy per epoch for the training set\n",
    "        train_loss = running_loss / len(train_loader)\n",
    "        train_accuracy = 100 * correct / total\n",
    "        train_losses.append(train_loss)\n",
    "        train_accuracies.append(train_accuracy)\n",
    "\n",
    "        # Model validation\n",
    "        model.eval()\n",
    "        val_loss = 0.0\n",
    "        correct = 0\n",
    "        total = 0\n",
    "\n",
    "        with torch.no_grad():\n",
    "            for images, labels in val_loader:\n",
    "                images, labels = images.to(device), labels.to(device)\n",
    "                outputs = model(images)\n",
    "                loss = criterion(outputs, labels)\n",
    "\n",
    "                # Accumulate loss\n",
    "                val_loss += loss.item()\n",
    "\n",
    "                # Calculate accuracy\n",
    "                _, predicted = torch.max(outputs.data, 1)\n",
    "                total += labels.size(0)\n",
    "                correct += (predicted == labels).sum().item()\n",
    "\n",
    "        # Calculate loss and accuracy per epoch for the validation set\n",
    "        val_loss /= len(val_loader)\n",
    "        val_accuracy = 100 * correct / total\n",
    "        val_losses.append(val_loss)\n",
    "        val_accuracies.append(val_accuracy)\n",
    "\n",
    "        # Print results per epoch\n",
    "        print(f'Epoch {epoch+1}/{num_epochs}, '\n",
    "              f'Training Loss: {train_loss:.4f}, Training Accuracy: {train_accuracy:.2f}%, '\n",
    "              f'Validation Loss: {val_loss:.4f}, Validation Accuracy: {val_accuracy:.2f}%')\n",
    "\n",
    "        # Early Stopping\n",
    "        if val_accuracy > best_val_accuracy:\n",
    "            best_val_accuracy = val_accuracy\n",
    "            epochs_without_improvement = 0\n",
    "        else:\n",
    "            epochs_without_improvement += 1\n",
    "\n",
    "        if epochs_without_improvement >= patience:\n",
    "            print(f'Stopping training early at epoch {epoch+1} due to lack of improvement in validation accuracy.')\n",
    "            break\n",
    "\n",
    "    # Plot the evolution of loss and accuracy\n",
    "    plt.figure(figsize=(12, 5))\n",
    "\n",
    "    # Loss plot\n",
    "    plt.subplot(1, 2, 1)\n",
    "    plt.plot(train_losses, label='Training Loss')\n",
    "    plt.plot(val_losses, label='Validation Loss')\n",
    "    plt.xlabel('Epoch')\n",
    "    plt.ylabel('Loss')\n",
    "    plt.legend()\n",
    "    plt.title('Loss Evolution')\n",
    "\n",
    "    # Accuracy plot\n",
    "    plt.subplot(1, 2, 2)\n",
    "    plt.plot(train_accuracies, label='Training Accuracy')\n",
    "    plt.plot(val_accuracies, label='Validation Accuracy')\n",
    "    plt.xlabel('Epoch')\n",
    "    plt.ylabel('Accuracy (%)')\n",
    "    plt.legend()\n",
    "    plt.title('Accuracy Evolution')\n",
    "\n",
    "    plt.show()"
   ]
  },
  {
   "cell_type": "markdown",
   "id": "df1ff1d9-b0ae-4458-90e5-0dd29c3bb4c3",
   "metadata": {},
   "source": [
    "## Evaluación"
   ]
  },
  {
   "cell_type": "code",
   "execution_count": 5,
   "id": "17f8a815-860c-4121-89f4-b05c2bb4614e",
   "metadata": {},
   "outputs": [],
   "source": [
    "# Función para evaluar el modelo\n",
    "def evaluate_model(model, test_loader):\n",
    "    device = torch.device('cuda' if torch.cuda.is_available() else 'cpu')\n",
    "    model.to(device)  # Asegurarse de que el modelo está en el dispositivo correcto\n",
    "    model.eval()\n",
    "    \n",
    "    all_preds = []\n",
    "    all_labels = []\n",
    "    \n",
    "    with torch.no_grad():\n",
    "        for inputs, labels in test_loader:\n",
    "            inputs, labels = inputs.to(device), labels.to(device)\n",
    "            outputs = model(inputs)\n",
    "            _, preds = torch.max(outputs, 1)\n",
    "            all_preds.extend(preds.cpu().numpy())\n",
    "            all_labels.extend(labels.cpu().numpy())\n",
    "\n",
    "    # Calcular métricas\n",
    "    precision = precision_score(all_labels, all_preds, average='weighted', zero_division=0)\n",
    "    recall = recall_score(all_labels, all_preds, average='weighted', zero_division=0)\n",
    "    f1 = f1_score(all_labels, all_preds, average='weighted', zero_division=0)\n",
    "    conf_matrix = confusion_matrix(all_labels, all_preds)\n",
    "    \n",
    "    print(f'Precision: {precision:.4f}, Recall: {recall:.4f}, F1 Score: {f1:.4f}')\n",
    "    print('Confusion Matrix:')\n",
    "    print(conf_matrix)\n",
    "    \n",
    "    return all_labels, all_preds\n",
    "\n"
   ]
  },
  {
   "cell_type": "markdown",
   "id": "6c279d0e-dc6d-432d-acaa-6def698bdd10",
   "metadata": {},
   "source": [
    "# Modelos"
   ]
  },
  {
   "cell_type": "markdown",
   "id": "7197fc5e-0ef6-41a7-a0e9-74fad879475c",
   "metadata": {},
   "source": [
    "## Modelo basado en red neuronal preentrenada"
   ]
  },
  {
   "cell_type": "code",
   "execution_count": 6,
   "id": "1b4ddc03-fbe3-46ec-b5e2-5d9cd3daae19",
   "metadata": {},
   "outputs": [],
   "source": [
    "# Modelo Preentrenado\n",
    "\n",
    "class EfficientNetModel(nn.Module):\n",
    "    def __init__(self, num_classes=2, num_neurons_fc=512):\n",
    "        super(EfficientNetModel, self).__init__()\n",
    "        \n",
    "        # Cargar EfficientNet-B0 preentrenada\n",
    "        self.efficientnet = models.efficientnet_b0(pretrained=True)\n",
    "        \n",
    "        # Modificar la primera capa convolucional para aceptar 1 canal\n",
    "        self.efficientnet.features[0][0] = nn.Conv2d(1, 32, kernel_size=(3, 3), stride=(2, 2), padding=(1, 1), bias=False)\n",
    "        \n",
    "        # Congelar los parámetros de las capas preentrenadas\n",
    "        for param in self.efficientnet.parameters():\n",
    "            param.requires_grad = False\n",
    "        \n",
    "        # Obtener el número de características de entrada de la última capa totalmente conectada\n",
    "        num_ftrs = self.efficientnet.classifier[1].in_features\n",
    "        \n",
    "        # Reemplazar la última capa completamente conectada\n",
    "        self.efficientnet.classifier = nn.Sequential(\n",
    "            nn.Linear(num_ftrs, num_neurons_fc),\n",
    "            nn.ReLU(inplace=True),\n",
    "            nn.Dropout(),\n",
    "            nn.Linear(num_neurons_fc, num_classes)\n",
    "        )\n",
    "\n",
    "    def forward(self, x):\n",
    "        return self.efficientnet(x)\n",
    "\n"
   ]
  },
  {
   "cell_type": "markdown",
   "id": "aff5bb2d-a058-4ee8-9c80-ba1f8a9bf49c",
   "metadata": {},
   "source": [
    "# Implementación "
   ]
  },
  {
   "cell_type": "code",
   "execution_count": 7,
   "id": "8d838cb7-662e-4c19-8476-a63601d4f324",
   "metadata": {},
   "outputs": [],
   "source": [
    "try:\n",
    "    os.chdir('prueba_us')\n",
    "except:\n",
    "    pass"
   ]
  },
  {
   "cell_type": "code",
   "execution_count": 8,
   "id": "2b3e858a-bd03-40f2-925e-2641c68d00c4",
   "metadata": {},
   "outputs": [],
   "source": [
    "# Reservar el 10% de los datos para test\n",
    "dividir_csv(\"train_labels.csv\", \"train.csv\", \"test.csv\", porcentaje=90)"
   ]
  },
  {
   "cell_type": "code",
   "execution_count": 9,
   "id": "89040c5d-2d18-4fff-915d-f612b392db75",
   "metadata": {},
   "outputs": [],
   "source": [
    "# Cargar los datasets\n",
    "batch_size=128\n",
    "# Cargar las etiquetas\n",
    "train_labels = load_labels('train.csv')\n",
    "train_dataset = CustomImageDataset(img_dir='train', labels=train_labels, transform=transform)\n",
    "train_loader = DataLoader(train_dataset, batch_size=batch_size, shuffle=True,num_workers=4)\n",
    "\n",
    "# Cargar etiquetas de prueba (si las necesitas para evaluación)\n",
    "test_labels = load_labels('test.csv')\n",
    "test_dataset = CustomImageDataset(img_dir='train', labels=test_labels, transform=transform)\n",
    "test_loader = DataLoader(test_dataset, batch_size=batch_size, shuffle=False,num_workers=4)"
   ]
  },
  {
   "cell_type": "markdown",
   "id": "c27e1e38-c63e-4bea-a5f8-385c3f280105",
   "metadata": {},
   "source": [
    "## Implementación modelo preentrenado"
   ]
  },
  {
   "cell_type": "code",
   "execution_count": 10,
   "id": "0067a1c9-b26d-4608-97c5-34317067b29b",
   "metadata": {},
   "outputs": [
    {
     "name": "stderr",
     "output_type": "stream",
     "text": [
      "/opt/conda/lib/python3.10/site-packages/torchvision/models/_utils.py:208: UserWarning: The parameter 'pretrained' is deprecated since 0.13 and may be removed in the future, please use 'weights' instead.\n",
      "  warnings.warn(\n",
      "/opt/conda/lib/python3.10/site-packages/torchvision/models/_utils.py:223: UserWarning: Arguments other than a weight enum or `None` for 'weights' are deprecated since 0.13 and may be removed in the future. The current behavior is equivalent to passing `weights=EfficientNet_B0_Weights.IMAGENET1K_V1`. You can also use `weights=EfficientNet_B0_Weights.DEFAULT` to get the most up-to-date weights.\n",
      "  warnings.warn(msg)\n"
     ]
    },
    {
     "name": "stdout",
     "output_type": "stream",
     "text": [
      "Epoch 1/40, Training Loss: 0.4697, Training Accuracy: 77.80%, Validation Loss: 0.4367, Validation Accuracy: 79.61%\n",
      "Epoch 2/40, Training Loss: 0.4538, Training Accuracy: 78.80%, Validation Loss: 0.4291, Validation Accuracy: 80.32%\n",
      "Epoch 3/40, Training Loss: 0.4477, Training Accuracy: 79.11%, Validation Loss: 0.4270, Validation Accuracy: 80.27%\n",
      "Epoch 4/40, Training Loss: 0.4455, Training Accuracy: 79.27%, Validation Loss: 0.4320, Validation Accuracy: 79.95%\n",
      "Epoch 5/40, Training Loss: 0.4424, Training Accuracy: 79.40%, Validation Loss: 0.4232, Validation Accuracy: 80.61%\n",
      "Epoch 6/40, Training Loss: 0.4430, Training Accuracy: 79.41%, Validation Loss: 0.4247, Validation Accuracy: 80.49%\n",
      "Epoch 7/40, Training Loss: 0.4406, Training Accuracy: 79.50%, Validation Loss: 0.4283, Validation Accuracy: 80.29%\n",
      "Epoch 8/40, Training Loss: 0.4392, Training Accuracy: 79.69%, Validation Loss: 0.4229, Validation Accuracy: 80.49%\n",
      "Epoch 9/40, Training Loss: 0.4391, Training Accuracy: 79.64%, Validation Loss: 0.4228, Validation Accuracy: 80.53%\n",
      "Epoch 10/40, Training Loss: 0.4388, Training Accuracy: 79.75%, Validation Loss: 0.4202, Validation Accuracy: 80.61%\n",
      "Epoch 11/40, Training Loss: 0.4387, Training Accuracy: 79.55%, Validation Loss: 0.4211, Validation Accuracy: 80.78%\n",
      "Epoch 12/40, Training Loss: 0.4368, Training Accuracy: 79.65%, Validation Loss: 0.4241, Validation Accuracy: 80.50%\n",
      "Epoch 13/40, Training Loss: 0.4372, Training Accuracy: 79.74%, Validation Loss: 0.4244, Validation Accuracy: 80.54%\n",
      "Epoch 14/40, Training Loss: 0.4382, Training Accuracy: 79.62%, Validation Loss: 0.4212, Validation Accuracy: 80.69%\n",
      "Epoch 15/40, Training Loss: 0.4378, Training Accuracy: 79.74%, Validation Loss: 0.4227, Validation Accuracy: 80.68%\n",
      "Epoch 16/40, Training Loss: 0.4370, Training Accuracy: 79.84%, Validation Loss: 0.4220, Validation Accuracy: 80.64%\n",
      "Stopping training early at epoch 16 due to lack of improvement in validation accuracy.\n"
     ]
    },
    {
     "data": {
      "image/png": "[encoded data removed]",
      "text/plain": [
       "<Figure size 1200x500 with 2 Axes>"
      ]
     },
     "metadata": {},
     "output_type": "display_data"
    }
   ],
   "source": [
    "# Inicializar el modelo y moverlo al dispositivo\n",
    "num_classes = len(set(train_labels.values()))\n",
    "model_pretrain = EfficientNetModel(num_classes=num_classes)\n",
    "\n",
    "# Definir la función de pérdida y el optimizador\n",
    "criterion = nn.CrossEntropyLoss()\n",
    "optimizer = optim.Adam(model_pretrain.parameters(), lr=0.001,weight_decay=1e-4)\n",
    "\n",
    "# Entrenamiento\n",
    "train_model(model_pretrain, train_loader, num_epochs=40, batch_size=batch_size, learning_rate=0.001,criterion=criterion, optimizer=optimizer)"
   ]
  },
  {
   "cell_type": "code",
   "execution_count": 11,
   "id": "66906152-c1f1-4f4b-b458-d7ae8cf2983c",
   "metadata": {},
   "outputs": [
    {
     "name": "stdout",
     "output_type": "stream",
     "text": [
      "Precision: 0.8055, Recall: 0.8065, F1 Score: 0.8045\n",
      "Confusion Matrix:\n",
      "[[11465  1656]\n",
      " [ 2601  6281]]\n",
      "              precision    recall  f1-score   support\n",
      "\n",
      "           0       0.82      0.87      0.84     13121\n",
      "           1       0.79      0.71      0.75      8882\n",
      "\n",
      "    accuracy                           0.81     22003\n",
      "   macro avg       0.80      0.79      0.80     22003\n",
      "weighted avg       0.81      0.81      0.80     22003\n",
      "\n"
     ]
    }
   ],
   "source": [
    "# Evaluar el modelo\n",
    "labels, preds = evaluate_model(model_pretrain, test_loader)\n",
    "\n",
    "# Mostrar el reporte de clasificación\n",
    "print(classification_report(labels, preds, zero_division=0))"
   ]
  },
  {
   "cell_type": "code",
   "execution_count": 12,
   "id": "bedda64c-69f5-4d08-848d-c3ce37bbb97f",
   "metadata": {},
   "outputs": [],
   "source": [
    "# Salvar el modelo\n",
    "torch.save(model_pretrain.state_dict(), 'pretrain.pth')"
   ]
  }
 ],
 "metadata": {
  "kernelspec": {
   "display_name": "Python 3 (ipykernel)",
   "language": "python",
   "name": "python3"
  },
  "language_info": {
   "codemirror_mode": {
    "name": "ipython",
    "version": 3
   },
   "file_extension": ".py",
   "mimetype": "text/x-python",
   "name": "python",
   "nbconvert_exporter": "python",
   "pygments_lexer": "ipython3",
   "version": "3.10.13"
  }
 },
 "nbformat": 4,
 "nbformat_minor": 5
}
